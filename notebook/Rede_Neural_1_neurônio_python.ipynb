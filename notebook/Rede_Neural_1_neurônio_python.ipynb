{
  "nbformat": 4,
  "nbformat_minor": 0,
  "metadata": {
    "colab": {
      "private_outputs": true,
      "provenance": []
    },
    "kernelspec": {
      "name": "python3",
      "display_name": "Python 3"
    },
    "language_info": {
      "name": "python"
    }
  },
  "cells": [
    {
      "cell_type": "code",
      "execution_count": null,
      "metadata": {
        "id": "GNuAMzviRy9T"
      },
      "outputs": [],
      "source": [
        "# Bibliotecas\n",
        "\n",
        "# Bibliotecas manipulação dados\n",
        "import numpy as np\n",
        "import pandas as pd\n",
        "\n",
        "# Bibliotecas visualização dados\n",
        "import seaborn as sns\n",
        "import matplotlib.pyplot as plt"
      ]
    },
    {
      "cell_type": "code",
      "source": [
        "# Carregue o conjunto de dados Iris\n",
        "url = \"https://archive.ics.uci.edu/ml/machine-learning-databases/iris/iris.data\"\n",
        "column_names = [\"sepal_length\", \"sepal_width\", \"petal_length\", \"petal_width\", \"class\"]"
      ],
      "metadata": {
        "id": "KuLKmqZASsnh"
      },
      "execution_count": null,
      "outputs": []
    },
    {
      "cell_type": "code",
      "source": [
        "# Base dados\n",
        "df = pd.read_csv(url, names=column_names)\n",
        "\n",
        "# Visualizando base dados\n",
        "df.head()"
      ],
      "metadata": {
        "id": "am-Ra3m4S5pn"
      },
      "execution_count": null,
      "outputs": []
    },
    {
      "cell_type": "code",
      "source": [
        "# Importando biblioteca\n",
        "from sklearn.preprocessing import LabelEncoder\n",
        "\n",
        "# Transforme as classes em valores numéricos (0 para Setosa e 1 para Não Setosa)\n",
        "le = LabelEncoder()\n",
        "df['class'] = le.fit_transform(df['class'])\n",
        "\n",
        "# Visualizando\n",
        "le"
      ],
      "metadata": {
        "id": "awk2I73kS9oS"
      },
      "execution_count": null,
      "outputs": []
    },
    {
      "cell_type": "code",
      "source": [
        "# Divida os dados em conjunto de treinamento e conjunto de teste\n",
        "X = df.drop('class', axis=1).values\n",
        "y = df['class'].values"
      ],
      "metadata": {
        "id": "2Yrr1Vs6TCSz"
      },
      "execution_count": null,
      "outputs": []
    },
    {
      "cell_type": "code",
      "source": [
        "# Importando biblioteca\n",
        "from sklearn.model_selection import train_test_split\n",
        "\n",
        "# Treinamento modelo\n",
        "X_train, X_test, y_train, y_test = train_test_split(X, y, test_size=0.2, random_state=42)"
      ],
      "metadata": {
        "id": "b5FG4MW9THeu"
      },
      "execution_count": null,
      "outputs": []
    },
    {
      "cell_type": "code",
      "source": [
        "# Visualizando dados treino\n",
        "X_train.shape"
      ],
      "metadata": {
        "id": "Xdg8J9DyTOKe"
      },
      "execution_count": null,
      "outputs": []
    },
    {
      "cell_type": "code",
      "source": [
        "# Visualizando dados teste\n",
        "X_test.shape"
      ],
      "metadata": {
        "id": "efiLUFRTTSdz"
      },
      "execution_count": null,
      "outputs": []
    },
    {
      "cell_type": "markdown",
      "source": [
        "# **Neurônio Artificial**"
      ],
      "metadata": {
        "id": "-UNu28NwTYXL"
      }
    },
    {
      "cell_type": "code",
      "source": [
        "# Importando biblioteca\n",
        "from keras.models import Sequential\n",
        "from keras.layers import Dense\n",
        "from keras.utils import plot_model\n",
        "\n",
        "# Crie um modelo sequencial\n",
        "model = Sequential()\n",
        "\n",
        "# Adicione uma camada densa com um neurônio\n",
        "model.add(Dense(units=1, input_dim=4, activation='sigmoid'))\n",
        "\n",
        "# Compile o modelo\n",
        "model.compile(loss='binary_crossentropy', optimizer='adam', metrics=['accuracy'])\n",
        "\n",
        "# Summario\n",
        "model.summary()"
      ],
      "metadata": {
        "id": "XmBkzHzyTViK"
      },
      "execution_count": null,
      "outputs": []
    },
    {
      "cell_type": "code",
      "source": [
        "# Treine o modelo e obtenha o histórico do treinamento\n",
        "history = model.fit(X_train,\n",
        "                    y_train,\n",
        "                    epochs=100,\n",
        "                    batch_size=10,\n",
        "                    verbose=1)"
      ],
      "metadata": {
        "id": "5vr0bur9Tmqf"
      },
      "execution_count": null,
      "outputs": []
    },
    {
      "cell_type": "code",
      "source": [
        "# Plote a arquitetura do modelo em um arquivo de imagem\n",
        "plot_model(model,\n",
        "           to_file='Neurônio_Artificial.png',\n",
        "           show_shapes=True)"
      ],
      "metadata": {
        "id": "buDcky9PZZUC"
      },
      "execution_count": null,
      "outputs": []
    },
    {
      "cell_type": "code",
      "source": [
        "# Extrair as métricas de treinamento - Loss\n",
        "train_loss = history.history['loss']\n",
        "\n",
        "# Métricas treinamento - Accuracy\n",
        "train_accuracy = history.history['accuracy']"
      ],
      "metadata": {
        "id": "zBfRy6vDX2Y9"
      },
      "execution_count": null,
      "outputs": []
    },
    {
      "cell_type": "code",
      "source": [
        "# Plotar as métricas de perda (loss) e acurácia (accuracy)\n",
        "plt.figure(figsize=(12, 4))\n",
        "\n",
        "# Plotar a métrica de perda (loss)\n",
        "plt.subplot(1, 2, 1)\n",
        "plt.plot(history.history['loss'])\n",
        "plt.title('Loss')\n",
        "plt.xlabel('Epoch')\n",
        "plt.ylabel('Loss')\n",
        "\n",
        "# Plotar a métrica de acurácia (accuracy)\n",
        "plt.subplot(1, 2, 2)\n",
        "plt.plot(history.history['accuracy'])\n",
        "plt.title('Accuracy')\n",
        "plt.xlabel('Epoch')\n",
        "plt.ylabel('Accuracy')\n",
        "\n",
        "plt.tight_layout()\n",
        "plt.show()"
      ],
      "metadata": {
        "id": "8jIqB9FyYyVt"
      },
      "execution_count": null,
      "outputs": []
    },
    {
      "cell_type": "code",
      "source": [
        "# Avalie o modelo no conjunto de teste\n",
        "loss, accuracy = model.evaluate(X_test, y_test)\n",
        "print(f'Acurácia do modelo no conjunto de teste: {accuracy * 100:.2f}%')"
      ],
      "metadata": {
        "id": "AqXOrD-TTrDE"
      },
      "execution_count": null,
      "outputs": []
    },
    {
      "cell_type": "code",
      "source": [
        "# Faça previsões no conjunto de teste\n",
        "y_pred = model.predict(X_test)\n",
        "y_pred_binary = [1 if y >= 0.5 else 0 for y in y_pred]"
      ],
      "metadata": {
        "id": "H9IXVxfvTrGL"
      },
      "execution_count": null,
      "outputs": []
    },
    {
      "cell_type": "code",
      "source": [
        "# Importando biblioteca\n",
        "from sklearn.metrics import confusion_matrix, classification_report\n",
        "\n",
        "# Calcule a matriz de confusão\n",
        "cm = confusion_matrix(y_test, y_pred_binary)\n",
        "print(\"Matriz de Confusão:\")\n",
        "print(cm)"
      ],
      "metadata": {
        "id": "EvhpUB9wUHAF"
      },
      "execution_count": null,
      "outputs": []
    },
    {
      "cell_type": "code",
      "source": [
        "# Relatório de classificação\n",
        "cr = classification_report(y_test, y_pred_binary)\n",
        "print(\"Relatório de Classificação:\", cr)\n",
        "print(cr)"
      ],
      "metadata": {
        "id": "wnY-9pIFUHcC"
      },
      "execution_count": null,
      "outputs": []
    },
    {
      "cell_type": "code",
      "source": [],
      "metadata": {
        "id": "aQNhM94wZO9w"
      },
      "execution_count": null,
      "outputs": []
    }
  ]
}